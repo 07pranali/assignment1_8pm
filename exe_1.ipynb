{
 "cells": [
  {
   "cell_type": "code",
   "execution_count": 1,
   "id": "27fb1a6a",
   "metadata": {},
   "outputs": [
    {
     "data": {
      "text/plain": [
       "' What is 7 to the power of 4?'"
      ]
     },
     "execution_count": 1,
     "metadata": {},
     "output_type": "execute_result"
    }
   ],
   "source": [
    "''' What is 7 to the power of 4?'''"
   ]
  },
  {
   "cell_type": "code",
   "execution_count": 4,
   "id": "a5263980",
   "metadata": {},
   "outputs": [
    {
     "data": {
      "text/plain": [
       "2401"
      ]
     },
     "execution_count": 4,
     "metadata": {},
     "output_type": "execute_result"
    }
   ],
   "source": [
    "7**4"
   ]
  },
  {
   "cell_type": "code",
   "execution_count": 2,
   "id": "6e899689",
   "metadata": {},
   "outputs": [
    {
     "data": {
      "text/plain": [
       "'split this string s= \"Hi there yogesh!\" into a list'"
      ]
     },
     "execution_count": 2,
     "metadata": {},
     "output_type": "execute_result"
    }
   ],
   "source": [
    "'''split this string s= \"Hi there yogesh!\" into a list'''"
   ]
  },
  {
   "cell_type": "code",
   "execution_count": 7,
   "id": "e039bcdb",
   "metadata": {},
   "outputs": [],
   "source": [
    "s='Hi there yogesh!'\n"
   ]
  },
  {
   "cell_type": "code",
   "execution_count": 8,
   "id": "b50dd3bb",
   "metadata": {},
   "outputs": [
    {
     "data": {
      "text/plain": [
       "['Hi', 'there', 'yogesh!']"
      ]
     },
     "execution_count": 8,
     "metadata": {},
     "output_type": "execute_result"
    }
   ],
   "source": [
    "s.split()"
   ]
  },
  {
   "cell_type": "code",
   "execution_count": 10,
   "id": "99443f8c",
   "metadata": {},
   "outputs": [
    {
     "data": {
      "text/plain": [
       "' given the variables \\n planet=\"earth\"\\ndiameter=12742\\nuse .format() to print the following string \\nthe diameter of earth is 12742 kilometers '"
      ]
     },
     "execution_count": 10,
     "metadata": {},
     "output_type": "execute_result"
    }
   ],
   "source": [
    "''' given the variables \n",
    " planet=\"earth\"\n",
    "diameter=12742\n",
    "use .format() to print the following string \n",
    "the diameter of earth is 12742 kilometers '''"
   ]
  },
  {
   "cell_type": "code",
   "execution_count": 11,
   "id": "4dca3ef6",
   "metadata": {},
   "outputs": [
    {
     "name": "stdout",
     "output_type": "stream",
     "text": [
      "the diameter of earth is 12742 kilometers.\n"
     ]
    }
   ],
   "source": [
    "planet='earth'\n",
    "diameter=12742\n",
    "print(\"the diameter of {} is {} kilometers.\" .format(planet,diameter))"
   ]
  },
  {
   "cell_type": "code",
   "execution_count": 12,
   "id": "16078635",
   "metadata": {},
   "outputs": [],
   "source": [
    "lst = [1,2,[3,4],[5,[100,200,['hello']],23,11],1,7]"
   ]
  },
  {
   "cell_type": "code",
   "execution_count": 14,
   "id": "001761d9",
   "metadata": {},
   "outputs": [
    {
     "data": {
      "text/plain": [
       "list"
      ]
     },
     "execution_count": 14,
     "metadata": {},
     "output_type": "execute_result"
    }
   ],
   "source": [
    "type(lst)"
   ]
  },
  {
   "cell_type": "code",
   "execution_count": 15,
   "id": "c6d77f1e",
   "metadata": {},
   "outputs": [
    {
     "data": {
      "text/plain": [
       "'hello'"
      ]
     },
     "execution_count": 15,
     "metadata": {},
     "output_type": "execute_result"
    }
   ],
   "source": [
    "lst[3][1][2][0]"
   ]
  },
  {
   "cell_type": "code",
   "execution_count": 3,
   "id": "1857ddce",
   "metadata": {},
   "outputs": [],
   "source": [
    "'''Given this nested dictionary grab the word \"hello\". Be prepared, this will be annoying/tricky '''\n",
    "\n",
    "d ={'k1':[1,2,3,{'tricky':['oh','man','inception',\n",
    "                            {'target':[1,2,3,'hello']}]}]}"
   ]
  },
  {
   "cell_type": "code",
   "execution_count": 4,
   "id": "21726554",
   "metadata": {},
   "outputs": [
    {
     "data": {
      "text/plain": [
       "'hello'"
      ]
     },
     "execution_count": 4,
     "metadata": {},
     "output_type": "execute_result"
    }
   ],
   "source": [
    "d['k1'][3]['tricky'][3]['target'][3]"
   ]
  },
  {
   "cell_type": "code",
   "execution_count": 5,
   "id": "aafeff57",
   "metadata": {},
   "outputs": [
    {
     "data": {
      "text/plain": [
       "'What is the main difference between a tuple and a list?'"
      ]
     },
     "execution_count": 5,
     "metadata": {},
     "output_type": "execute_result"
    }
   ],
   "source": [
    "'''What is the main difference between a tuple and a list?'''"
   ]
  },
  {
   "cell_type": "code",
   "execution_count": 6,
   "id": "c35453b1",
   "metadata": {},
   "outputs": [],
   "source": [
    "# tuple is immutable             1. Lists are mutable\n",
    "# tuples are declared by         2. Lists are declared by \n",
    "# using square brackets []         using square brackets []\n",
    "# tuples has fixed length        3. Lists has variable length\n",
    "# tuples has less functionality 4. list has more functionality\n",
    "# than the list                          than the tuple"
   ]
  },
  {
   "cell_type": "code",
   "execution_count": 7,
   "id": "30575c75",
   "metadata": {},
   "outputs": [
    {
     "data": {
      "text/plain": [
       "' Create a function that grabs the email website domain from a string in the form: \\n user@domain.com\\n    So for example, passing \"user@domain.com\" would return: domain.com'"
      ]
     },
     "execution_count": 7,
     "metadata": {},
     "output_type": "execute_result"
    }
   ],
   "source": [
    "''' Create a function that grabs the email website domain from a string in the form: \n",
    " user@domain.com\n",
    "    So for example, passing \"user@domain.com\" would return: domain.com'''"
   ]
  },
  {
   "cell_type": "code",
   "execution_count": 23,
   "id": "f68d386b",
   "metadata": {},
   "outputs": [],
   "source": [
    "def domain_get(e):\n",
    "    e.split('@')[1]\n",
    "    "
   ]
  },
  {
   "cell_type": "code",
   "execution_count": 26,
   "id": "720b8d94",
   "metadata": {},
   "outputs": [],
   "source": [
    "domain_get('abc@gmail.com')"
   ]
  },
  {
   "cell_type": "code",
   "execution_count": 18,
   "id": "15c27269",
   "metadata": {},
   "outputs": [
    {
     "data": {
      "text/plain": [
       "\"* Use lambda expressions and the filter() function to filter out words from a list that don't start with the letter 's'. For example:**\\n  seq = ['soup','dog','salad','cat','great']should be filtered down to:\\n  ['soup','salad']\""
      ]
     },
     "execution_count": 18,
     "metadata": {},
     "output_type": "execute_result"
    }
   ],
   "source": [
    "''' Use lambda expressions and the filter() function to filter out words from a list that don't start with the letter 's'.\n",
    "For example:\n",
    "  seq = ['soup','dog','salad','cat','great']should be filtered down to:\n",
    "  ['soup','salad']'''"
   ]
  },
  {
   "cell_type": "code",
   "execution_count": 19,
   "id": "0e4de669",
   "metadata": {},
   "outputs": [],
   "source": [
    " seq = ['soup','dog','salad','cat','great']"
   ]
  },
  {
   "cell_type": "code",
   "execution_count": 20,
   "id": "d28bb22c",
   "metadata": {},
   "outputs": [
    {
     "data": {
      "text/plain": [
       "list"
      ]
     },
     "execution_count": 20,
     "metadata": {},
     "output_type": "execute_result"
    }
   ],
   "source": [
    "type(seq)"
   ]
  },
  {
   "cell_type": "code",
   "execution_count": 51,
   "id": "048f5302",
   "metadata": {},
   "outputs": [],
   "source": [
    " seq = ['soup','dog','salad','cat','great']    "
   ]
  },
  {
   "cell_type": "code",
   "execution_count": 52,
   "id": "f36881f1",
   "metadata": {},
   "outputs": [
    {
     "data": {
      "text/plain": [
       "['dog', 'cat', 'great']"
      ]
     },
     "execution_count": 52,
     "metadata": {},
     "output_type": "execute_result"
    }
   ],
   "source": [
    "list(filter(lambda s:s[0]!='s',seq))"
   ]
  },
  {
   "cell_type": "code",
   "execution_count": 50,
   "id": "868e5061",
   "metadata": {},
   "outputs": [
    {
     "data": {
      "text/plain": [
       "\" Create a basic function that returns True if the word 'dog' is contained in the input string. \\nDon't worry about edge cases like a punctuation being attached to the word dog, but do account for capitalization. \""
      ]
     },
     "execution_count": 50,
     "metadata": {},
     "output_type": "execute_result"
    }
   ],
   "source": [
    "''' Create a basic function that returns True if the word 'dog' is contained in the input string. \n",
    "Don't worry about edge cases like a punctuation being attached to the word dog, but do account for capitalization. '''\n",
    "\n"
   ]
  },
  {
   "cell_type": "code",
   "execution_count": 27,
   "id": "1dccc521",
   "metadata": {},
   "outputs": [
    {
     "data": {
      "text/plain": [
       "True"
      ]
     },
     "execution_count": 27,
     "metadata": {},
     "output_type": "execute_result"
    }
   ],
   "source": [
    "'x' in ['x','y','z']"
   ]
  },
  {
   "cell_type": "code",
   "execution_count": 34,
   "id": "a17e8d6b",
   "metadata": {},
   "outputs": [],
   "source": [
    "def find_dog(s):\n",
    "    return 'dog' in s.lower().split()"
   ]
  },
  {
   "cell_type": "code",
   "execution_count": 35,
   "id": "6589927e",
   "metadata": {},
   "outputs": [
    {
     "data": {
      "text/plain": [
       "True"
      ]
     },
     "execution_count": 35,
     "metadata": {},
     "output_type": "execute_result"
    }
   ],
   "source": [
    "find_dog('this is dog')"
   ]
  },
  {
   "cell_type": "code",
   "execution_count": 72,
   "id": "9a6309c4",
   "metadata": {},
   "outputs": [
    {
     "data": {
      "text/plain": [
       "' Create a function that counts the number of times the word \"dog\" occurs in a string. Again ignore edge cases. '"
      ]
     },
     "execution_count": 72,
     "metadata": {},
     "output_type": "execute_result"
    }
   ],
   "source": [
    "''' Create a function that counts the number of times the word \"dog\" occurs in a string. Again ignore edge cases. '''"
   ]
  },
  {
   "cell_type": "code",
   "execution_count": 55,
   "id": "927fec9e",
   "metadata": {},
   "outputs": [],
   "source": [
    "def count_dog(s):\n",
    "    c=0\n",
    "    for v in s.lower().split():\n",
    "        if v=='dog':\n",
    "            c=c+1\n",
    "            print(c)"
   ]
  },
  {
   "cell_type": "code",
   "execution_count": 57,
   "id": "7b1a2a1f",
   "metadata": {},
   "outputs": [
    {
     "name": "stdout",
     "output_type": "stream",
     "text": [
      "1\n",
      "2\n",
      "3\n",
      "4\n"
     ]
    }
   ],
   "source": [
    "count_dog('This dog rr dog dog  dog dude!')"
   ]
  },
  {
   "cell_type": "code",
   "execution_count": 75,
   "id": "07f0e0d2",
   "metadata": {},
   "outputs": [
    {
     "data": {
      "text/plain": [
       "'You are driving a little too fast, and a police officer stops you. Write a function\\n  to return one of 3 possible results: \"No ticket\", \"Small ticket\", or \"Big Ticket\". \\n  If your speed is 60 or less, the result is \"No Ticket\". If speed is between 61 \\n  and 80 inclusive, the result is \"Small Ticket\". If speed is 81 or more, the result is \"Big    Ticket\". Unless it is your birthday (encoded as a boolean value in the parameters of the function) -- on your birthday, your speed can be 5 higher in all \\n  cases. **'"
      ]
     },
     "execution_count": 75,
     "metadata": {},
     "output_type": "execute_result"
    }
   ],
   "source": [
    "'''You are driving a little too fast, and a police officer stops you. Write a function\n",
    "  to return one of 3 possible results: \"No ticket\", \"Small ticket\", or \"Big Ticket\". \n",
    "  If your speed is 60 or less, the result is \"No Ticket\". If speed is between 61 \n",
    "  and 80 inclusive, the result is \"Small Ticket\". If speed is 81 or more, the result is \"Big    Ticket\". \n",
    "  Unless it is your birthday (encoded as a boolean value in the parameters of the function) --\n",
    "  on your birthday, your speed can be 5 higher in all \n",
    "  cases. **'''"
   ]
  },
  {
   "cell_type": "code",
   "execution_count": 93,
   "id": "0630fa0d",
   "metadata": {},
   "outputs": [],
   "source": [
    "def caught_speeding(speed, birthday):\n",
    "    if birthday is True:\n",
    "        speed -= 5\n",
    "    if speed > 80:\n",
    "        print(\"Big Ticket\") \n",
    "    elif speed >60:\n",
    "        print(\"Small Ticket\") \n",
    "    else :\n",
    "        print(\"NO Ticket\") "
   ]
  },
  {
   "cell_type": "code",
   "execution_count": 94,
   "id": "59794352",
   "metadata": {},
   "outputs": [
    {
     "name": "stdout",
     "output_type": "stream",
     "text": [
      "Small Ticket\n"
     ]
    }
   ],
   "source": [
    "caught_speeding(81,True)"
   ]
  },
  {
   "cell_type": "code",
   "execution_count": 95,
   "id": "5e353d2e",
   "metadata": {},
   "outputs": [
    {
     "name": "stdout",
     "output_type": "stream",
     "text": [
      "Big Ticket\n"
     ]
    }
   ],
   "source": [
    "caught_speeding(81,False)"
   ]
  },
  {
   "cell_type": "code",
   "execution_count": 74,
   "id": "406b0806",
   "metadata": {},
   "outputs": [],
   "source": [
    "def catch_biker(speed,birthday):\n",
    "    if birthday==True:\n",
    "        new_speed=speed-5\n",
    "    else:\n",
    "        new_speed=speed\n",
    "    if new_speed>80:\n",
    "            return \"Big Ticket\"\n",
    "    elif new_speed>60:\n",
    "            return \"Small Ticket\"\n",
    "    else:\n",
    "           return \"Not Ticket\""
   ]
  },
  {
   "cell_type": "code",
   "execution_count": 75,
   "id": "e79bef7a",
   "metadata": {},
   "outputs": [
    {
     "data": {
      "text/plain": [
       "'Small Ticket'"
      ]
     },
     "execution_count": 75,
     "metadata": {},
     "output_type": "execute_result"
    }
   ],
   "source": [
    "catch_biker(84,True)"
   ]
  },
  {
   "cell_type": "code",
   "execution_count": 76,
   "id": "d57ed24a",
   "metadata": {},
   "outputs": [],
   "source": [
    "#Palidrome program "
   ]
  },
  {
   "cell_type": "code",
   "execution_count": 8,
   "id": "40337e0b",
   "metadata": {},
   "outputs": [
    {
     "name": "stdout",
     "output_type": "stream",
     "text": [
      "Enter the number:4512\n",
      " palindrome is 6666\n"
     ]
    }
   ],
   "source": [
    "n1=input(\"Enter the number:\")\n",
    "n2=int(n1[::-1])\n",
    "n3=str(int(n1)+n2)\n",
    "while n3!=n3[::-1]:\n",
    "    n3=str(int(n3)+int(n3[::-1]))\n",
    "    print(\" Number is:\",n3)\n",
    "    print(\" Reverse is \",n3[::-1])\n",
    "print(\" palindrome is\",n3)"
   ]
  },
  {
   "cell_type": "code",
   "execution_count": 1,
   "id": "2e2afe07",
   "metadata": {},
   "outputs": [
    {
     "data": {
      "text/plain": [
       "\"Given a string print number num by extracting all the\\ndigits from the string as in string\\nPrint negative number if the first character in \\nstring is '-' \""
      ]
     },
     "execution_count": 1,
     "metadata": {},
     "output_type": "execute_result"
    }
   ],
   "source": [
    "'''Given a string print number num by extracting all the\n",
    "digits from the string as in string\n",
    "Print negative number if the first character in \n",
    "string is '-' '''"
   ]
  },
  {
   "cell_type": "code",
   "execution_count": 10,
   "id": "7a6e65ea",
   "metadata": {},
   "outputs": [],
   "source": [
    "def ext_num(string):\n",
    "    n=''\n",
    "    neg= False\n",
    "    \n",
    "    if string[0]=='-':\n",
    "        neg=True\n",
    "        string=string[1:]\n",
    "        \n",
    "    for i in string:\n",
    "        if i.isdigit():\n",
    "            n += i\n",
    "            \n",
    "    if neg:\n",
    "        n='-'+n\n",
    "    \n",
    "    return int(n)\n"
   ]
  },
  {
   "cell_type": "code",
   "execution_count": 15,
   "id": "d12fb733",
   "metadata": {},
   "outputs": [
    {
     "data": {
      "text/plain": [
       "7889"
      ]
     },
     "execution_count": 15,
     "metadata": {},
     "output_type": "execute_result"
    }
   ],
   "source": [
    "ext_num(\"fdhfh-78dsd89\")"
   ]
  },
  {
   "cell_type": "code",
   "execution_count": null,
   "id": "495a690e",
   "metadata": {},
   "outputs": [],
   "source": [
    "'''Write a python function to find and display \n",
    "1)the five digit number in which the first digit is two more than \n",
    "the second,\n",
    "2)the second digit is two more than the third,\n",
    "3)the fourth digit is two less than the third, and \n",
    "4)the last digit is two more than\n",
    "the fourth.\n",
    "5)The sum of the third,fourth and fifth digits\n",
    "equals the first.The sum of all the digits is 19'''"
   ]
  },
  {
   "cell_type": "code",
   "execution_count": 17,
   "id": "632aacf3",
   "metadata": {},
   "outputs": [
    {
     "name": "stdout",
     "output_type": "stream",
     "text": [
      "75313\n"
     ]
    }
   ],
   "source": [
    "def find_five_digit():\n",
    "    for i in range(10000, 100000): \n",
    "        n = str(i)\n",
    "        if int(n[0]) == int(n[1]) + 2:\n",
    "            if int(n[1]) == int(n[2]) + 2:\n",
    "                if int(n[3]) == int(n[2]) - 2:\n",
    "                    if int(n[4]) == int(n[3]) + 2:\n",
    "                        if int(n[2]) + int(n[3]) + int(n[4]) == int(n[0]):\n",
    "                            if sum(int(digit) for digit in n) == 19:\n",
    "                                return i\n",
    "\n",
    "print(find_five_digit())"
   ]
  },
  {
   "cell_type": "code",
   "execution_count": 16,
   "id": "816d77fe",
   "metadata": {},
   "outputs": [],
   "source": [
    "\n",
    "    \n",
    "   "
   ]
  },
  {
   "cell_type": "code",
   "execution_count": null,
   "id": "7b65fa93",
   "metadata": {},
   "outputs": [],
   "source": []
  },
  {
   "cell_type": "code",
   "execution_count": null,
   "id": "d44380bf",
   "metadata": {},
   "outputs": [],
   "source": []
  },
  {
   "cell_type": "code",
   "execution_count": null,
   "id": "9c4a4c16",
   "metadata": {},
   "outputs": [],
   "source": []
  }
 ],
 "metadata": {
  "kernelspec": {
   "display_name": "Python 3 (ipykernel)",
   "language": "python",
   "name": "python3"
  },
  "language_info": {
   "codemirror_mode": {
    "name": "ipython",
    "version": 3
   },
   "file_extension": ".py",
   "mimetype": "text/x-python",
   "name": "python",
   "nbconvert_exporter": "python",
   "pygments_lexer": "ipython3",
   "version": "3.11.5"
  }
 },
 "nbformat": 4,
 "nbformat_minor": 5
}
