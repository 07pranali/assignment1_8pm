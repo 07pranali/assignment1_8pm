{
 "cells": [
  {
   "cell_type": "code",
   "execution_count": 1,
   "id": "27fb1a6a",
   "metadata": {},
   "outputs": [
    {
     "data": {
      "text/plain": [
       "' What is 7 to the power of 4?'"
      ]
     },
     "execution_count": 1,
     "metadata": {},
     "output_type": "execute_result"
    }
   ],
   "source": [
    "''' What is 7 to the power of 4?'''"
   ]
  },
  {
   "cell_type": "code",
   "execution_count": 4,
   "id": "a5263980",
   "metadata": {},
   "outputs": [
    {
     "data": {
      "text/plain": [
       "2401"
      ]
     },
     "execution_count": 4,
     "metadata": {},
     "output_type": "execute_result"
    }
   ],
   "source": [
    "7**4"
   ]
  },
  {
   "cell_type": "code",
   "execution_count": 2,
   "id": "6e899689",
   "metadata": {},
   "outputs": [
    {
     "data": {
      "text/plain": [
       "'split this string s= \"Hi there yogesh!\" into a list'"
      ]
     },
     "execution_count": 2,
     "metadata": {},
     "output_type": "execute_result"
    }
   ],
   "source": [
    "'''split this string s= \"Hi there yogesh!\" into a list'''"
   ]
  },
  {
   "cell_type": "code",
   "execution_count": 7,
   "id": "e039bcdb",
   "metadata": {},
   "outputs": [],
   "source": [
    "s='Hi there yogesh!'\n"
   ]
  },
  {
   "cell_type": "code",
   "execution_count": 8,
   "id": "b50dd3bb",
   "metadata": {},
   "outputs": [
    {
     "data": {
      "text/plain": [
       "['Hi', 'there', 'yogesh!']"
      ]
     },
     "execution_count": 8,
     "metadata": {},
     "output_type": "execute_result"
    }
   ],
   "source": [
    "s.split()"
   ]
  },
  {
   "cell_type": "code",
   "execution_count": 10,
   "id": "99443f8c",
   "metadata": {},
   "outputs": [
    {
     "data": {
      "text/plain": [
       "' given the variables \\n planet=\"earth\"\\ndiameter=12742\\nuse .format() to print the following string \\nthe diameter of earth is 12742 kilometers '"
      ]
     },
     "execution_count": 10,
     "metadata": {},
     "output_type": "execute_result"
    }
   ],
   "source": [
    "''' given the variables \n",
    " planet=\"earth\"\n",
    "diameter=12742\n",
    "use .format() to print the following string \n",
    "the diameter of earth is 12742 kilometers '''"
   ]
  },
  {
   "cell_type": "code",
   "execution_count": 11,
   "id": "4dca3ef6",
   "metadata": {},
   "outputs": [
    {
     "name": "stdout",
     "output_type": "stream",
     "text": [
      "the diameter of earth is 12742 kilometers.\n"
     ]
    }
   ],
   "source": [
    "planet='earth'\n",
    "diameter=12742\n",
    "print(\"the diameter of {} is {} kilometers.\" .format(planet,diameter))"
   ]
  },
  {
   "cell_type": "code",
   "execution_count": 12,
   "id": "16078635",
   "metadata": {},
   "outputs": [],
   "source": [
    "lst = [1,2,[3,4],[5,[100,200,['hello']],23,11],1,7]"
   ]
  },
  {
   "cell_type": "code",
   "execution_count": 14,
   "id": "001761d9",
   "metadata": {},
   "outputs": [
    {
     "data": {
      "text/plain": [
       "list"
      ]
     },
     "execution_count": 14,
     "metadata": {},
     "output_type": "execute_result"
    }
   ],
   "source": [
    "type(lst)"
   ]
  },
  {
   "cell_type": "code",
   "execution_count": 15,
   "id": "c6d77f1e",
   "metadata": {},
   "outputs": [
    {
     "data": {
      "text/plain": [
       "'hello'"
      ]
     },
     "execution_count": 15,
     "metadata": {},
     "output_type": "execute_result"
    }
   ],
   "source": [
    "lst[3][1][2][0]"
   ]
  },
  {
   "cell_type": "code",
   "execution_count": 3,
   "id": "1857ddce",
   "metadata": {},
   "outputs": [],
   "source": [
    "'''Given this nested dictionary grab the word \"hello\". Be prepared, this will be annoying/tricky '''\n",
    "\n",
    "d ={'k1':[1,2,3,{'tricky':['oh','man','inception',\n",
    "                            {'target':[1,2,3,'hello']}]}]}"
   ]
  },
  {
   "cell_type": "code",
   "execution_count": 4,
   "id": "21726554",
   "metadata": {},
   "outputs": [
    {
     "data": {
      "text/plain": [
       "'hello'"
      ]
     },
     "execution_count": 4,
     "metadata": {},
     "output_type": "execute_result"
    }
   ],
   "source": [
    "d['k1'][3]['tricky'][3]['target'][3]"
   ]
  },
  {
   "cell_type": "code",
   "execution_count": 5,
   "id": "aafeff57",
   "metadata": {},
   "outputs": [
    {
     "data": {
      "text/plain": [
       "'What is the main difference between a tuple and a list?'"
      ]
     },
     "execution_count": 5,
     "metadata": {},
     "output_type": "execute_result"
    }
   ],
   "source": [
    "'''What is the main difference between a tuple and a list?'''"
   ]
  },
  {
   "cell_type": "code",
   "execution_count": 6,
   "id": "c35453b1",
   "metadata": {},
   "outputs": [],
   "source": [
    "# tuple is immutable             1. Lists are mutable\n",
    "# tuples are declared by         2. Lists are declared by \n",
    "# using square brackets []         using square brackets []\n",
    "# tuples has fixed length        3. Lists has variable length\n",
    "# tuples has less functionality 4. list has more functionality\n",
    "# than the list                          than the tuple"
   ]
  },
  {
   "cell_type": "code",
   "execution_count": 7,
   "id": "30575c75",
   "metadata": {},
   "outputs": [
    {
     "data": {
      "text/plain": [
       "' Create a function that grabs the email website domain from a string in the form: \\n user@domain.com\\n    So for example, passing \"user@domain.com\" would return: domain.com'"
      ]
     },
     "execution_count": 7,
     "metadata": {},
     "output_type": "execute_result"
    }
   ],
   "source": [
    "''' Create a function that grabs the email website domain from a string in the form: \n",
    " user@domain.com\n",
    "    So for example, passing \"user@domain.com\" would return: domain.com'''"
   ]
  },
  {
   "cell_type": "code",
   "execution_count": 16,
   "id": "f68d386b",
   "metadata": {},
   "outputs": [],
   "source": [
    "email='User@domain.com'\n",
    "def domainget(email):\n",
    "    print('domain.com')"
   ]
  },
  {
   "cell_type": "code",
   "execution_count": 17,
   "id": "720b8d94",
   "metadata": {},
   "outputs": [
    {
     "name": "stdout",
     "output_type": "stream",
     "text": [
      "domain.com\n"
     ]
    }
   ],
   "source": [
    "domainget(email)"
   ]
  },
  {
   "cell_type": "code",
   "execution_count": 18,
   "id": "15c27269",
   "metadata": {},
   "outputs": [
    {
     "data": {
      "text/plain": [
       "\"* Use lambda expressions and the filter() function to filter out words from a list that don't start with the letter 's'. For example:**\\n  seq = ['soup','dog','salad','cat','great']should be filtered down to:\\n  ['soup','salad']\""
      ]
     },
     "execution_count": 18,
     "metadata": {},
     "output_type": "execute_result"
    }
   ],
   "source": [
    "''' Use lambda expressions and the filter() function to filter out words from a list that don't start with the letter 's'.\n",
    "For example:\n",
    "  seq = ['soup','dog','salad','cat','great']should be filtered down to:\n",
    "  ['soup','salad']'''"
   ]
  },
  {
   "cell_type": "code",
   "execution_count": 19,
   "id": "0e4de669",
   "metadata": {},
   "outputs": [],
   "source": [
    " seq = ['soup','dog','salad','cat','great']"
   ]
  },
  {
   "cell_type": "code",
   "execution_count": 20,
   "id": "d28bb22c",
   "metadata": {},
   "outputs": [
    {
     "data": {
      "text/plain": [
       "list"
      ]
     },
     "execution_count": 20,
     "metadata": {},
     "output_type": "execute_result"
    }
   ],
   "source": [
    "type(seq)"
   ]
  },
  {
   "cell_type": "code",
   "execution_count": 65,
   "id": "048f5302",
   "metadata": {},
   "outputs": [],
   "source": [
    " seq = ['soup','dog','salad','cat','great']\n",
    "  \n",
    "      "
   ]
  },
  {
   "cell_type": "code",
   "execution_count": 66,
   "id": "f36881f1",
   "metadata": {},
   "outputs": [
    {
     "data": {
      "text/plain": [
       "['soup', 'salad']"
      ]
     },
     "execution_count": 66,
     "metadata": {},
     "output_type": "execute_result"
    }
   ],
   "source": [
    "list(filter(lambda s: s[0]=='s',seq))"
   ]
  },
  {
   "cell_type": "code",
   "execution_count": 67,
   "id": "868e5061",
   "metadata": {},
   "outputs": [
    {
     "data": {
      "text/plain": [
       "\" Create a basic function that returns True if the word 'dog' is contained in the input string. \\nDon't worry about edge cases like a punctuation being attached to the word dog, but do account for capitalization. \""
      ]
     },
     "execution_count": 67,
     "metadata": {},
     "output_type": "execute_result"
    }
   ],
   "source": [
    "''' Create a basic function that returns True if the word 'dog' is contained in the input string. \n",
    "Don't worry about edge cases like a punctuation being attached to the word dog, but do account for capitalization. '''\n",
    "\n"
   ]
  },
  {
   "cell_type": "code",
   "execution_count": 70,
   "id": "1dccc521",
   "metadata": {},
   "outputs": [],
   "source": [
    "\n",
    "def findDog(s):\n",
    "    count = 0\n",
    "    for word in s.lower().split():\n",
    "        if \"dog\" in word:\n",
    "            count += 1\n",
    "    return count\n"
   ]
  },
  {
   "cell_type": "code",
   "execution_count": 71,
   "id": "a17e8d6b",
   "metadata": {},
   "outputs": [
    {
     "data": {
      "text/plain": [
       "1"
      ]
     },
     "execution_count": 71,
     "metadata": {},
     "output_type": "execute_result"
    }
   ],
   "source": [
    "findDog('Is there a dog here?')"
   ]
  },
  {
   "cell_type": "code",
   "execution_count": 72,
   "id": "9a6309c4",
   "metadata": {},
   "outputs": [
    {
     "data": {
      "text/plain": [
       "' Create a function that counts the number of times the word \"dog\" occurs in a string. Again ignore edge cases. '"
      ]
     },
     "execution_count": 72,
     "metadata": {},
     "output_type": "execute_result"
    }
   ],
   "source": [
    "''' Create a function that counts the number of times the word \"dog\" occurs in a string. Again ignore edge cases. '''"
   ]
  },
  {
   "cell_type": "code",
   "execution_count": 74,
   "id": "7b1a2a1f",
   "metadata": {},
   "outputs": [
    {
     "data": {
      "text/plain": [
       "2"
      ]
     },
     "execution_count": 74,
     "metadata": {},
     "output_type": "execute_result"
    }
   ],
   "source": [
    "findDog('This dog runs faster than the other dog dude!')"
   ]
  },
  {
   "cell_type": "code",
   "execution_count": 75,
   "id": "07f0e0d2",
   "metadata": {},
   "outputs": [
    {
     "data": {
      "text/plain": [
       "'You are driving a little too fast, and a police officer stops you. Write a function\\n  to return one of 3 possible results: \"No ticket\", \"Small ticket\", or \"Big Ticket\". \\n  If your speed is 60 or less, the result is \"No Ticket\". If speed is between 61 \\n  and 80 inclusive, the result is \"Small Ticket\". If speed is 81 or more, the result is \"Big    Ticket\". Unless it is your birthday (encoded as a boolean value in the parameters of the function) -- on your birthday, your speed can be 5 higher in all \\n  cases. **'"
      ]
     },
     "execution_count": 75,
     "metadata": {},
     "output_type": "execute_result"
    }
   ],
   "source": [
    "'''You are driving a little too fast, and a police officer stops you. Write a function\n",
    "  to return one of 3 possible results: \"No ticket\", \"Small ticket\", or \"Big Ticket\". \n",
    "  If your speed is 60 or less, the result is \"No Ticket\". If speed is between 61 \n",
    "  and 80 inclusive, the result is \"Small Ticket\". If speed is 81 or more, the result is \"Big    Ticket\". \n",
    "  Unless it is your birthday (encoded as a boolean value in the parameters of the function) --\n",
    "  on your birthday, your speed can be 5 higher in all \n",
    "  cases. **'''"
   ]
  },
  {
   "cell_type": "code",
   "execution_count": 93,
   "id": "0630fa0d",
   "metadata": {},
   "outputs": [],
   "source": [
    "def caught_speeding(speed, birthday):\n",
    "    if birthday is True:\n",
    "        speed -= 5\n",
    "    if speed > 80:\n",
    "        print(\"Big Ticket\") \n",
    "    elif speed >60:\n",
    "        print(\"Small Ticket\") \n",
    "    else :\n",
    "        print(\"NO Ticket\") "
   ]
  },
  {
   "cell_type": "code",
   "execution_count": 94,
   "id": "59794352",
   "metadata": {},
   "outputs": [
    {
     "name": "stdout",
     "output_type": "stream",
     "text": [
      "Small Ticket\n"
     ]
    }
   ],
   "source": [
    "caught_speeding(81,True)"
   ]
  },
  {
   "cell_type": "code",
   "execution_count": 95,
   "id": "5e353d2e",
   "metadata": {},
   "outputs": [
    {
     "name": "stdout",
     "output_type": "stream",
     "text": [
      "Big Ticket\n"
     ]
    }
   ],
   "source": [
    "caught_speeding(81,False)"
   ]
  },
  {
   "cell_type": "code",
   "execution_count": null,
   "id": "406b0806",
   "metadata": {},
   "outputs": [],
   "source": []
  }
 ],
 "metadata": {
  "kernelspec": {
   "display_name": "Python 3 (ipykernel)",
   "language": "python",
   "name": "python3"
  },
  "language_info": {
   "codemirror_mode": {
    "name": "ipython",
    "version": 3
   },
   "file_extension": ".py",
   "mimetype": "text/x-python",
   "name": "python",
   "nbconvert_exporter": "python",
   "pygments_lexer": "ipython3",
   "version": "3.11.5"
  }
 },
 "nbformat": 4,
 "nbformat_minor": 5
}
